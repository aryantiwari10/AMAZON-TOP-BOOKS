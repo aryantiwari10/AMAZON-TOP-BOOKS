{
 "cells": [
  {
   "cell_type": "code",
   "execution_count": 1,
   "id": "directed-organic",
   "metadata": {
    "_cell_guid": "b1076dfc-b9ad-4769-8c92-a6c4dae69d19",
    "_uuid": "8f2839f25d086af736a60e9eeb907d3b93b6e0e5",
    "execution": {
     "iopub.execute_input": "2021-05-07T18:50:41.183886Z",
     "iopub.status.busy": "2021-05-07T18:50:41.182647Z",
     "iopub.status.idle": "2021-05-07T18:50:42.291732Z",
     "shell.execute_reply": "2021-05-07T18:50:42.290891Z"
    },
    "papermill": {
     "duration": 1.124247,
     "end_time": "2021-05-07T18:50:42.291904",
     "exception": false,
     "start_time": "2021-05-07T18:50:41.167657",
     "status": "completed"
    },
    "tags": []
   },
   "outputs": [],
   "source": [
    "import pandas as pd\n",
    "import numpy as np\n",
    "import matplotlib.pyplot as plt\n",
    "import seaborn as sns\n",
    "\n",
    "%matplotlib inline\n",
    "\n",
    "palette = ['#F5DF4D', '#939597', '#0F4C81', '#FF6F61', '#5F4B8B', '#88B04B', '#92A8D1', '#F7CAC9', '#955251',\\\n",
    "           '#B163A3', '#009473']\n",
    "palette.reverse()"
   ]
  },
  {
   "cell_type": "code",
   "execution_count": 2,
   "id": "metric-covering",
   "metadata": {
    "execution": {
     "iopub.execute_input": "2021-05-07T18:50:42.317635Z",
     "iopub.status.busy": "2021-05-07T18:50:42.316965Z",
     "iopub.status.idle": "2021-05-07T18:50:42.373488Z",
     "shell.execute_reply": "2021-05-07T18:50:42.374091Z"
    },
    "papermill": {
     "duration": 0.071963,
     "end_time": "2021-05-07T18:50:42.374299",
     "exception": false,
     "start_time": "2021-05-07T18:50:42.302336",
     "status": "completed"
    },
    "tags": []
   },
   "outputs": [
    {
     "data": {
      "text/html": [
       "<div>\n",
       "<style scoped>\n",
       "    .dataframe tbody tr th:only-of-type {\n",
       "        vertical-align: middle;\n",
       "    }\n",
       "\n",
       "    .dataframe tbody tr th {\n",
       "        vertical-align: top;\n",
       "    }\n",
       "\n",
       "    .dataframe thead th {\n",
       "        text-align: right;\n",
       "    }\n",
       "</style>\n",
       "<table border=\"1\" class=\"dataframe\">\n",
       "  <thead>\n",
       "    <tr style=\"text-align: right;\">\n",
       "      <th></th>\n",
       "      <th>Name</th>\n",
       "      <th>Author</th>\n",
       "      <th>User Rating</th>\n",
       "      <th>Reviews</th>\n",
       "      <th>Price</th>\n",
       "      <th>Year</th>\n",
       "      <th>Genre</th>\n",
       "    </tr>\n",
       "  </thead>\n",
       "  <tbody>\n",
       "    <tr>\n",
       "      <th>0</th>\n",
       "      <td>10-Day Green Smoothie Cleanse</td>\n",
       "      <td>JJ Smith</td>\n",
       "      <td>4.7</td>\n",
       "      <td>17350</td>\n",
       "      <td>8</td>\n",
       "      <td>2016</td>\n",
       "      <td>Non Fiction</td>\n",
       "    </tr>\n",
       "    <tr>\n",
       "      <th>1</th>\n",
       "      <td>11/22/63: A Novel</td>\n",
       "      <td>Stephen King</td>\n",
       "      <td>4.6</td>\n",
       "      <td>2052</td>\n",
       "      <td>22</td>\n",
       "      <td>2011</td>\n",
       "      <td>Fiction</td>\n",
       "    </tr>\n",
       "    <tr>\n",
       "      <th>2</th>\n",
       "      <td>12 Rules for Life: An Antidote to Chaos</td>\n",
       "      <td>Jordan B. Peterson</td>\n",
       "      <td>4.7</td>\n",
       "      <td>18979</td>\n",
       "      <td>15</td>\n",
       "      <td>2018</td>\n",
       "      <td>Non Fiction</td>\n",
       "    </tr>\n",
       "    <tr>\n",
       "      <th>3</th>\n",
       "      <td>1984 (Signet Classics)</td>\n",
       "      <td>George Orwell</td>\n",
       "      <td>4.7</td>\n",
       "      <td>21424</td>\n",
       "      <td>6</td>\n",
       "      <td>2017</td>\n",
       "      <td>Fiction</td>\n",
       "    </tr>\n",
       "    <tr>\n",
       "      <th>4</th>\n",
       "      <td>5,000 Awesome Facts (About Everything!) (Natio...</td>\n",
       "      <td>National Geographic Kids</td>\n",
       "      <td>4.8</td>\n",
       "      <td>7665</td>\n",
       "      <td>12</td>\n",
       "      <td>2019</td>\n",
       "      <td>Non Fiction</td>\n",
       "    </tr>\n",
       "  </tbody>\n",
       "</table>\n",
       "</div>"
      ],
      "text/plain": [
       "                                                Name  \\\n",
       "0                      10-Day Green Smoothie Cleanse   \n",
       "1                                  11/22/63: A Novel   \n",
       "2            12 Rules for Life: An Antidote to Chaos   \n",
       "3                             1984 (Signet Classics)   \n",
       "4  5,000 Awesome Facts (About Everything!) (Natio...   \n",
       "\n",
       "                     Author  User Rating  Reviews  Price  Year        Genre  \n",
       "0                  JJ Smith          4.7    17350      8  2016  Non Fiction  \n",
       "1              Stephen King          4.6     2052     22  2011      Fiction  \n",
       "2        Jordan B. Peterson          4.7    18979     15  2018  Non Fiction  \n",
       "3             George Orwell          4.7    21424      6  2017      Fiction  \n",
       "4  National Geographic Kids          4.8     7665     12  2019  Non Fiction  "
      ]
     },
     "execution_count": 2,
     "metadata": {},
     "output_type": "execute_result"
    }
   ],
   "source": [
    "df = pd.read_csv('../input/amazon-top-50-bestselling-books-2009-2019/bestsellers with categories.csv')\n",
    "df.head()"
   ]
  },
  {
   "cell_type": "code",
   "execution_count": 3,
   "id": "elegant-request",
   "metadata": {
    "execution": {
     "iopub.execute_input": "2021-05-07T18:50:42.411619Z",
     "iopub.status.busy": "2021-05-07T18:50:42.410890Z",
     "iopub.status.idle": "2021-05-07T18:50:42.447243Z",
     "shell.execute_reply": "2021-05-07T18:50:42.446512Z"
    },
    "papermill": {
     "duration": 0.057044,
     "end_time": "2021-05-07T18:50:42.447398",
     "exception": false,
     "start_time": "2021-05-07T18:50:42.390354",
     "status": "completed"
    },
    "tags": []
   },
   "outputs": [
    {
     "data": {
      "text/html": [
       "<div>\n",
       "<style scoped>\n",
       "    .dataframe tbody tr th:only-of-type {\n",
       "        vertical-align: middle;\n",
       "    }\n",
       "\n",
       "    .dataframe tbody tr th {\n",
       "        vertical-align: top;\n",
       "    }\n",
       "\n",
       "    .dataframe thead th {\n",
       "        text-align: right;\n",
       "    }\n",
       "</style>\n",
       "<table border=\"1\" class=\"dataframe\">\n",
       "  <thead>\n",
       "    <tr style=\"text-align: right;\">\n",
       "      <th></th>\n",
       "      <th>User Rating</th>\n",
       "      <th>Reviews</th>\n",
       "      <th>Price</th>\n",
       "      <th>Year</th>\n",
       "    </tr>\n",
       "  </thead>\n",
       "  <tbody>\n",
       "    <tr>\n",
       "      <th>count</th>\n",
       "      <td>550.000000</td>\n",
       "      <td>550.000000</td>\n",
       "      <td>550.000000</td>\n",
       "      <td>550.000000</td>\n",
       "    </tr>\n",
       "    <tr>\n",
       "      <th>mean</th>\n",
       "      <td>4.618364</td>\n",
       "      <td>11953.281818</td>\n",
       "      <td>13.100000</td>\n",
       "      <td>2014.000000</td>\n",
       "    </tr>\n",
       "    <tr>\n",
       "      <th>std</th>\n",
       "      <td>0.226980</td>\n",
       "      <td>11731.132017</td>\n",
       "      <td>10.842262</td>\n",
       "      <td>3.165156</td>\n",
       "    </tr>\n",
       "    <tr>\n",
       "      <th>min</th>\n",
       "      <td>3.300000</td>\n",
       "      <td>37.000000</td>\n",
       "      <td>0.000000</td>\n",
       "      <td>2009.000000</td>\n",
       "    </tr>\n",
       "    <tr>\n",
       "      <th>25%</th>\n",
       "      <td>4.500000</td>\n",
       "      <td>4058.000000</td>\n",
       "      <td>7.000000</td>\n",
       "      <td>2011.000000</td>\n",
       "    </tr>\n",
       "    <tr>\n",
       "      <th>50%</th>\n",
       "      <td>4.700000</td>\n",
       "      <td>8580.000000</td>\n",
       "      <td>11.000000</td>\n",
       "      <td>2014.000000</td>\n",
       "    </tr>\n",
       "    <tr>\n",
       "      <th>75%</th>\n",
       "      <td>4.800000</td>\n",
       "      <td>17253.250000</td>\n",
       "      <td>16.000000</td>\n",
       "      <td>2017.000000</td>\n",
       "    </tr>\n",
       "    <tr>\n",
       "      <th>max</th>\n",
       "      <td>4.900000</td>\n",
       "      <td>87841.000000</td>\n",
       "      <td>105.000000</td>\n",
       "      <td>2019.000000</td>\n",
       "    </tr>\n",
       "  </tbody>\n",
       "</table>\n",
       "</div>"
      ],
      "text/plain": [
       "       User Rating       Reviews       Price         Year\n",
       "count   550.000000    550.000000  550.000000   550.000000\n",
       "mean      4.618364  11953.281818   13.100000  2014.000000\n",
       "std       0.226980  11731.132017   10.842262     3.165156\n",
       "min       3.300000     37.000000    0.000000  2009.000000\n",
       "25%       4.500000   4058.000000    7.000000  2011.000000\n",
       "50%       4.700000   8580.000000   11.000000  2014.000000\n",
       "75%       4.800000  17253.250000   16.000000  2017.000000\n",
       "max       4.900000  87841.000000  105.000000  2019.000000"
      ]
     },
     "execution_count": 3,
     "metadata": {},
     "output_type": "execute_result"
    }
   ],
   "source": [
    "df.describe()"
   ]
  },
  {
   "cell_type": "code",
   "execution_count": 4,
   "id": "innocent-netscape",
   "metadata": {
    "execution": {
     "iopub.execute_input": "2021-05-07T18:50:42.487818Z",
     "iopub.status.busy": "2021-05-07T18:50:42.476722Z",
     "iopub.status.idle": "2021-05-07T18:50:42.493820Z",
     "shell.execute_reply": "2021-05-07T18:50:42.494438Z"
    },
    "papermill": {
     "duration": 0.035082,
     "end_time": "2021-05-07T18:50:42.494636",
     "exception": false,
     "start_time": "2021-05-07T18:50:42.459554",
     "status": "completed"
    },
    "tags": []
   },
   "outputs": [
    {
     "name": "stdout",
     "output_type": "stream",
     "text": [
      "<class 'pandas.core.frame.DataFrame'>\n",
      "RangeIndex: 550 entries, 0 to 549\n",
      "Data columns (total 7 columns):\n",
      " #   Column       Non-Null Count  Dtype  \n",
      "---  ------       --------------  -----  \n",
      " 0   Name         550 non-null    object \n",
      " 1   Author       550 non-null    object \n",
      " 2   User Rating  550 non-null    float64\n",
      " 3   Reviews      550 non-null    int64  \n",
      " 4   Price        550 non-null    int64  \n",
      " 5   Year         550 non-null    int64  \n",
      " 6   Genre        550 non-null    object \n",
      "dtypes: float64(1), int64(3), object(3)\n",
      "memory usage: 30.2+ KB\n"
     ]
    }
   ],
   "source": [
    "df.info()"
   ]
  },
  {
   "cell_type": "code",
   "execution_count": 5,
   "id": "typical-bailey",
   "metadata": {
    "execution": {
     "iopub.execute_input": "2021-05-07T18:50:42.550088Z",
     "iopub.status.busy": "2021-05-07T18:50:42.539075Z",
     "iopub.status.idle": "2021-05-07T18:50:42.556888Z",
     "shell.execute_reply": "2021-05-07T18:50:42.555805Z"
    },
    "papermill": {
     "duration": 0.05068,
     "end_time": "2021-05-07T18:50:42.557038",
     "exception": false,
     "start_time": "2021-05-07T18:50:42.506358",
     "status": "completed"
    },
    "tags": []
   },
   "outputs": [
    {
     "name": "stdout",
     "output_type": "stream",
     "text": [
      "<class 'pandas.core.frame.DataFrame'>\n",
      "RangeIndex: 550 entries, 0 to 549\n",
      "Data columns (total 7 columns):\n",
      " #   Column       Non-Null Count  Dtype         \n",
      "---  ------       --------------  -----         \n",
      " 0   Name         550 non-null    object        \n",
      " 1   Author       550 non-null    object        \n",
      " 2   User Rating  550 non-null    float64       \n",
      " 3   Reviews      550 non-null    int64         \n",
      " 4   Price        550 non-null    int64         \n",
      " 5   Year         550 non-null    datetime64[ns]\n",
      " 6   Genre        550 non-null    object        \n",
      "dtypes: datetime64[ns](1), float64(1), int64(2), object(3)\n",
      "memory usage: 30.2+ KB\n",
      "None\n"
     ]
    },
    {
     "data": {
      "text/html": [
       "<div>\n",
       "<style scoped>\n",
       "    .dataframe tbody tr th:only-of-type {\n",
       "        vertical-align: middle;\n",
       "    }\n",
       "\n",
       "    .dataframe tbody tr th {\n",
       "        vertical-align: top;\n",
       "    }\n",
       "\n",
       "    .dataframe thead th {\n",
       "        text-align: right;\n",
       "    }\n",
       "</style>\n",
       "<table border=\"1\" class=\"dataframe\">\n",
       "  <thead>\n",
       "    <tr style=\"text-align: right;\">\n",
       "      <th></th>\n",
       "      <th>Name</th>\n",
       "      <th>Author</th>\n",
       "      <th>User Rating</th>\n",
       "      <th>Reviews</th>\n",
       "      <th>Price</th>\n",
       "      <th>Year</th>\n",
       "      <th>Genre</th>\n",
       "    </tr>\n",
       "  </thead>\n",
       "  <tbody>\n",
       "    <tr>\n",
       "      <th>0</th>\n",
       "      <td>10-Day Green Smoothie Cleanse</td>\n",
       "      <td>JJ Smith</td>\n",
       "      <td>4.7</td>\n",
       "      <td>17350</td>\n",
       "      <td>8</td>\n",
       "      <td>2016-01-01</td>\n",
       "      <td>Non Fiction</td>\n",
       "    </tr>\n",
       "    <tr>\n",
       "      <th>1</th>\n",
       "      <td>11/22/63: A Novel</td>\n",
       "      <td>Stephen King</td>\n",
       "      <td>4.6</td>\n",
       "      <td>2052</td>\n",
       "      <td>22</td>\n",
       "      <td>2011-01-01</td>\n",
       "      <td>Fiction</td>\n",
       "    </tr>\n",
       "    <tr>\n",
       "      <th>2</th>\n",
       "      <td>12 Rules for Life: An Antidote to Chaos</td>\n",
       "      <td>Jordan B. Peterson</td>\n",
       "      <td>4.7</td>\n",
       "      <td>18979</td>\n",
       "      <td>15</td>\n",
       "      <td>2018-01-01</td>\n",
       "      <td>Non Fiction</td>\n",
       "    </tr>\n",
       "    <tr>\n",
       "      <th>3</th>\n",
       "      <td>1984 (Signet Classics)</td>\n",
       "      <td>George Orwell</td>\n",
       "      <td>4.7</td>\n",
       "      <td>21424</td>\n",
       "      <td>6</td>\n",
       "      <td>2017-01-01</td>\n",
       "      <td>Fiction</td>\n",
       "    </tr>\n",
       "    <tr>\n",
       "      <th>4</th>\n",
       "      <td>5,000 Awesome Facts (About Everything!) (Natio...</td>\n",
       "      <td>National Geographic Kids</td>\n",
       "      <td>4.8</td>\n",
       "      <td>7665</td>\n",
       "      <td>12</td>\n",
       "      <td>2019-01-01</td>\n",
       "      <td>Non Fiction</td>\n",
       "    </tr>\n",
       "  </tbody>\n",
       "</table>\n",
       "</div>"
      ],
      "text/plain": [
       "                                                Name  \\\n",
       "0                      10-Day Green Smoothie Cleanse   \n",
       "1                                  11/22/63: A Novel   \n",
       "2            12 Rules for Life: An Antidote to Chaos   \n",
       "3                             1984 (Signet Classics)   \n",
       "4  5,000 Awesome Facts (About Everything!) (Natio...   \n",
       "\n",
       "                     Author  User Rating  Reviews  Price       Year  \\\n",
       "0                  JJ Smith          4.7    17350      8 2016-01-01   \n",
       "1              Stephen King          4.6     2052     22 2011-01-01   \n",
       "2        Jordan B. Peterson          4.7    18979     15 2018-01-01   \n",
       "3             George Orwell          4.7    21424      6 2017-01-01   \n",
       "4  National Geographic Kids          4.8     7665     12 2019-01-01   \n",
       "\n",
       "         Genre  \n",
       "0  Non Fiction  \n",
       "1      Fiction  \n",
       "2  Non Fiction  \n",
       "3      Fiction  \n",
       "4  Non Fiction  "
      ]
     },
     "execution_count": 5,
     "metadata": {},
     "output_type": "execute_result"
    }
   ],
   "source": [
    "df['Year'] =  pd.to_datetime(df['Year'], format='%Y')\n",
    "print(df.info())\n",
    "df.head()"
   ]
  },
  {
   "cell_type": "code",
   "execution_count": 6,
   "id": "pointed-biodiversity",
   "metadata": {
    "execution": {
     "iopub.execute_input": "2021-05-07T18:50:42.609758Z",
     "iopub.status.busy": "2021-05-07T18:50:42.609024Z",
     "iopub.status.idle": "2021-05-07T18:50:42.856733Z",
     "shell.execute_reply": "2021-05-07T18:50:42.857247Z"
    },
    "papermill": {
     "duration": 0.287774,
     "end_time": "2021-05-07T18:50:42.857467",
     "exception": false,
     "start_time": "2021-05-07T18:50:42.569693",
     "status": "completed"
    },
    "tags": []
   },
   "outputs": [
    {
     "data": {
      "image/png": "[encoded data removed]",
      "text/plain": [
       "<Figure size 720x432 with 1 Axes>"
      ]
     },
     "metadata": {
      "needs_background": "light"
     },
     "output_type": "display_data"
    }
   ],
   "source": [
    "# Set figure size (width, height) in inches\n",
    "plt.figure(figsize = (10, 6))\n",
    "\n",
    "# Plot histogram using Seaborn\n",
    "sns.histplot(df['User Rating'], stat='density', binwidth=0.1, color='#F5DF4D')\n",
    "  \n",
    "# Set label for x-axis\n",
    "plt.xlabel( \"User Rating (Bin Size = 0.1)\" , size=12)\n",
    "  \n",
    "# Set label for y-axis\n",
    "plt.ylabel( \"% per User Rating\" , size=12)\n",
    "  \n",
    "# Set title for figure\n",
    "plt.title( \"Amazon Best Sellers User Ratings\" , size=24);"
   ]
  },
  {
   "cell_type": "code",
   "execution_count": 7,
   "id": "spanish-holiday",
   "metadata": {
    "execution": {
     "iopub.execute_input": "2021-05-07T18:50:42.890989Z",
     "iopub.status.busy": "2021-05-07T18:50:42.889952Z",
     "iopub.status.idle": "2021-05-07T18:50:43.187447Z",
     "shell.execute_reply": "2021-05-07T18:50:43.188068Z"
    },
    "papermill": {
     "duration": 0.316223,
     "end_time": "2021-05-07T18:50:43.188260",
     "exception": false,
     "start_time": "2021-05-07T18:50:42.872037",
     "status": "completed"
    },
    "tags": []
   },
   "outputs": [
    {
     "data": {
      "image/png": "[encoded data removed]",
      "text/plain": [
       "<Figure size 720x432 with 1 Axes>"
      ]
     },
     "metadata": {
      "needs_background": "light"
     },
     "output_type": "display_data"
    }
   ],
   "source": [
    "# Set figure size (width, height) in inches\n",
    "plt.figure(figsize = (10, 6))\n",
    "\n",
    "# Plot histogram using Seaborn\n",
    "sns.histplot(df.loc[df['Genre'] == 'Fiction']['User Rating'], stat='density', binwidth=0.1, color='#F5DF4D')\n",
    "sns.histplot(df.loc[df['Genre'] == 'Non Fiction']['User Rating'], stat='density', binwidth=0.1, color='#939597') \n",
    "\n",
    "# Create plot legend\n",
    "plt.legend(labels=['Fiction', 'Non Fiction'])\n",
    "\n",
    "# Set label for x-axis\n",
    "plt.xlabel( \"User Rating (Bin Size = 0.1)\" , size=12)\n",
    "  \n",
    "# Set label for y-axis\n",
    "plt.ylabel( \"% per User Rating\" , size=12)\n",
    "  \n",
    "# Set title for figure\n",
    "plt.title( \"Amazon Best Sellers User Ratings by Genre\" , size=24);"
   ]
  },
  {
   "cell_type": "code",
   "execution_count": 8,
   "id": "altered-comedy",
   "metadata": {
    "execution": {
     "iopub.execute_input": "2021-05-07T18:50:43.229966Z",
     "iopub.status.busy": "2021-05-07T18:50:43.228865Z",
     "iopub.status.idle": "2021-05-07T18:50:43.926733Z",
     "shell.execute_reply": "2021-05-07T18:50:43.927236Z"
    },
    "papermill": {
     "duration": 0.723815,
     "end_time": "2021-05-07T18:50:43.927423",
     "exception": false,
     "start_time": "2021-05-07T18:50:43.203608",
     "status": "completed"
    },
    "tags": []
   },
   "outputs": [
    {
     "data": {
      "image/png": "[encoded data removed]",
      "text/plain": [
       "<Figure size 720x432 with 1 Axes>"
      ]
     },
     "metadata": {
      "needs_background": "light"
     },
     "output_type": "display_data"
    }
   ],
   "source": [
    "# Set figure size (width, height) in inches\n",
    "plt.figure(figsize = (10, 6))\n",
    "\n",
    "years = np.sort(df['Year'].dt.year.unique())\n",
    "for i, year in enumerate(years):\n",
    "    # Plot histogram using Seaborn\n",
    "    sns.histplot(df.loc[df['Year'] == str(year)]['User Rating'], stat='density', binwidth=0.1, color=palette[i], alpha=0.5) \n",
    "\n",
    "# Create plot legend\n",
    "plt.legend(labels=years)\n",
    "\n",
    "# Set label for x-axis\n",
    "plt.xlabel( \"User Rating (Bin Size = 0.1)\" , size=12)\n",
    "  \n",
    "# Set label for y-axis\n",
    "plt.ylabel( \"% per User Rating\" , size=12)\n",
    "  \n",
    "# Set title for figure\n",
    "plt.title( \"Amazon Best Sellers User Ratings by Year\" , size=24);"
   ]
  },
  {
   "cell_type": "code",
   "execution_count": 9,
   "id": "nominated-jordan",
   "metadata": {
    "execution": {
     "iopub.execute_input": "2021-05-07T18:50:43.965565Z",
     "iopub.status.busy": "2021-05-07T18:50:43.964560Z",
     "iopub.status.idle": "2021-05-07T18:50:44.407805Z",
     "shell.execute_reply": "2021-05-07T18:50:44.408277Z"
    },
    "papermill": {
     "duration": 0.464691,
     "end_time": "2021-05-07T18:50:44.408477",
     "exception": false,
     "start_time": "2021-05-07T18:50:43.943786",
     "status": "completed"
    },
    "tags": []
   },
   "outputs": [
    {
     "data": {
      "image/png": "[encoded data removed]",
      "text/plain": [
       "<Figure size 720x432 with 1 Axes>"
      ]
     },
     "metadata": {
      "needs_background": "light"
     },
     "output_type": "display_data"
    }
   ],
   "source": [
    "# Set figure size (width, height) in inches\n",
    "plt.figure(figsize = (10, 6))\n",
    "\n",
    "years = np.sort(df['Year'].dt.year.unique())\n",
    "for i, year in enumerate(years):\n",
    "    # Plot histogram using Seaborn\n",
    "    if i in range(5):\n",
    "        sns.histplot(df.loc[df['Year'] == str(year)]['User Rating'], stat='density', binwidth=0.1, color=palette[i]) \n",
    "\n",
    "# Create plot legend\n",
    "plt.legend(labels=years[0:5])\n",
    "\n",
    "# Set label for x-axis\n",
    "plt.xlabel( \"User Rating (Bin Size = 0.1)\" , size=12)\n",
    "  \n",
    "# Set label for y-axis\n",
    "plt.ylabel( \"% per User Rating\" , size=12)\n",
    "  \n",
    "# Set title for figure\n",
    "plt.title( \"Amazon Best Sellers User Ratings by Year 2009-2013\" , size=24);"
   ]
  },
  {
   "cell_type": "code",
   "execution_count": 10,
   "id": "isolated-advice",
   "metadata": {
    "execution": {
     "iopub.execute_input": "2021-05-07T18:50:44.448285Z",
     "iopub.status.busy": "2021-05-07T18:50:44.447211Z",
     "iopub.status.idle": "2021-05-07T18:50:44.587409Z",
     "shell.execute_reply": "2021-05-07T18:50:44.587906Z"
    },
    "papermill": {
     "duration": 0.162173,
     "end_time": "2021-05-07T18:50:44.588111",
     "exception": false,
     "start_time": "2021-05-07T18:50:44.425938",
     "status": "completed"
    },
    "tags": []
   },
   "outputs": [
    {
     "data": {
      "image/png": "[encoded data removed]",
      "text/plain": [
       "<Figure size 720x432 with 1 Axes>"
      ]
     },
     "metadata": {
      "needs_background": "light"
     },
     "output_type": "display_data"
    }
   ],
   "source": [
    "# Set figure size (width, height) in inches\n",
    "plt.figure(figsize = (10, 6))\n",
    "\n",
    "# Plot boxplot using Seaborn\n",
    "sns.boxplot(data=df['User Rating'], color='#F5DF4D')\n",
    "  \n",
    "# Set label for x-axis\n",
    "plt.xlabel( \"User Rating\" , size=12)\n",
    "\n",
    "  \n",
    "# Set title for figure\n",
    "plt.title( \"Amazon Best Sellers User Ratings\" , size=24);"
   ]
  },
  {
   "cell_type": "code",
   "execution_count": 11,
   "id": "genuine-dancing",
   "metadata": {
    "execution": {
     "iopub.execute_input": "2021-05-07T18:50:44.630173Z",
     "iopub.status.busy": "2021-05-07T18:50:44.629150Z",
     "iopub.status.idle": "2021-05-07T18:50:44.837113Z",
     "shell.execute_reply": "2021-05-07T18:50:44.836567Z"
    },
    "papermill": {
     "duration": 0.230178,
     "end_time": "2021-05-07T18:50:44.837260",
     "exception": false,
     "start_time": "2021-05-07T18:50:44.607082",
     "status": "completed"
    },
    "tags": []
   },
   "outputs": [
    {
     "data": {
      "image/png": "[encoded data removed]",
      "text/plain": [
       "<Figure size 720x432 with 1 Axes>"
      ]
     },
     "metadata": {
      "needs_background": "light"
     },
     "output_type": "display_data"
    }
   ],
   "source": [
    "ax = df.boxplot('User Rating', 'Genre', figsize=(10,6), fontsize=12)\n",
    "ax.set_ylabel('User Rating')\n",
    "ax.set_title('');"
   ]
  },
  {
   "cell_type": "code",
   "execution_count": 12,
   "id": "perfect-china",
   "metadata": {
    "execution": {
     "iopub.execute_input": "2021-05-07T18:50:44.909127Z",
     "iopub.status.busy": "2021-05-07T18:50:44.903144Z",
     "iopub.status.idle": "2021-05-07T18:50:45.335169Z",
     "shell.execute_reply": "2021-05-07T18:50:45.334515Z"
    },
    "papermill": {
     "duration": 0.478545,
     "end_time": "2021-05-07T18:50:45.335315",
     "exception": false,
     "start_time": "2021-05-07T18:50:44.856770",
     "status": "completed"
    },
    "tags": []
   },
   "outputs": [
    {
     "data": {
      "image/png": "[encoded data removed]",
      "text/plain": [
       "<Figure size 720x432 with 1 Axes>"
      ]
     },
     "metadata": {
      "needs_background": "light"
     },
     "output_type": "display_data"
    }
   ],
   "source": [
    "df['Year'] = df['Year'].dt.year\n",
    "ax = df.boxplot('User Rating', 'Year', figsize=(10,6), fontsize=16, rot=35)\n",
    "ax.set_ylabel('User Rating')\n",
    "ax.set_title('');"
   ]
  },
  {
   "cell_type": "markdown",
   "id": "digital-jones",
   "metadata": {
    "papermill": {
     "duration": 0.02115,
     "end_time": "2021-05-07T18:50:45.377788",
     "exception": false,
     "start_time": "2021-05-07T18:50:45.356638",
     "status": "completed"
    },
    "tags": []
   },
   "source": [
    "# IF YOU LIKE THIS SIMPLE VISUALAZATION CODE THEN PLZ COMMENT AND LIKE "
   ]
  }
 ],
 "metadata": {
  "kernelspec": {
   "display_name": "Python 3",
   "language": "python",
   "name": "python3"
  },
  "language_info": {
   "codemirror_mode": {
    "name": "ipython",
    "version": 3
   },
   "file_extension": ".py",
   "mimetype": "text/x-python",
   "name": "python",
   "nbconvert_exporter": "python",
   "pygments_lexer": "ipython3",
   "version": "3.7.9"
  },
  "papermill": {
   "default_parameters": {},
   "duration": 12.233477,
   "end_time": "2021-05-07T18:50:46.109987",
   "environment_variables": {},
   "exception": null,
   "input_path": "__notebook__.ipynb",
   "output_path": "__notebook__.ipynb",
   "parameters": {},
   "start_time": "2021-05-07T18:50:33.876510",
   "version": "2.3.2"
  }
 },
 "nbformat": 4,
 "nbformat_minor": 5
}
